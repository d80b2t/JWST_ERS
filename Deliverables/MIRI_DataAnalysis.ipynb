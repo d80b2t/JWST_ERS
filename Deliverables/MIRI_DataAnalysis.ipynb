{
 "cells": [
  {
   "cell_type": "code",
   "execution_count": 9,
   "metadata": {
    "collapsed": true
   },
   "outputs": [],
   "source": [
    "%matplotlib inline\n",
    "import matplotlib.pyplot as plt\n",
    "import numpy as np\n",
    "import astropy\n",
    "\n",
    "from astropy import table\n",
    "from astropy.table import Column, Table, QTable\n",
    "from astropy.time import Time\n",
    "from astropy.io import fits\n",
    "import astropy.units as u\n",
    "\n",
    "import photutils.datasets\n",
    "import warnings\n",
    "warnings.filterwarnings(action='ignore', category=FutureWarning)"
   ]
  },
  {
   "cell_type": "code",
   "execution_count": 10,
   "metadata": {
    "collapsed": true
   },
   "outputs": [],
   "source": [
    "path = '/cos_pc19a_npr/data/JWST/MIRI/'\n",
    "skycube_file = 'skycube_seq1_1SHORT.fits'\n",
    "illum_file = 'illum_model_seq1_MIRIFUSHORT_12SHORT.fits'\n",
    "det_image_file = 'det_image_seq1_MIRIFUSHORT_12SHORTexp1.fits'"
   ]
  },
  {
   "cell_type": "code",
   "execution_count": 11,
   "metadata": {},
   "outputs": [],
   "source": [
    "skycube = fits.open(path+skycube_file)\n",
    "illum = fits.open(path+illum_file)\n",
    "det_image = fits.open(path+det_image_file)"
   ]
  },
  {
   "cell_type": "code",
   "execution_count": 12,
   "metadata": {},
   "outputs": [
    {
     "name": "stdout",
     "output_type": "stream",
     "text": [
      "Filename: /cos_pc19a_npr/data/JWST/MIRI/skycube_seq1_1SHORT.fits\n",
      "No.    Name         Type      Cards   Dimensions   Format\n",
      "  0  PRIMARY     PrimaryHDU      17   (21, 19, 544)   float64   \n",
      "  1  WAVELENGTH  BinTableHDU     12   544R x 1C   [D]   \n",
      "  2  RA_COEF     BinTableHDU     21   6R x 2C   [4A, D]   \n",
      "  3  DEC_COEF    BinTableHDU     21   6R x 2C   [4A, D]   \n",
      "  4  RA          ImageHDU         9   (21, 19)   float64   \n",
      "  5  DEC         ImageHDU         9   (21, 19)   float64   \n"
     ]
    }
   ],
   "source": [
    "skycube.info()"
   ]
  },
  {
   "cell_type": "code",
   "execution_count": 13,
   "metadata": {},
   "outputs": [
    {
     "name": "stdout",
     "output_type": "stream",
     "text": [
      "Filename: /cos_pc19a_npr/data/JWST/MIRI/illum_model_seq1_MIRIFUSHORT_12SHORT.fits\n",
      "No.    Name         Type      Cards   Dimensions   Format\n",
      "  0  PRIMARY     PrimaryHDU      35   ()      \n",
      "  1  INTENSITY   ImageHDU         8   (1024, 1024)   float32   \n",
      "  2  WAVELENGTH  ImageHDU         8   (1024, 1024)   float32   \n",
      "  3  ASDF        ImageHDU         7   (1106,)   uint8   \n"
     ]
    }
   ],
   "source": [
    "illum.info()"
   ]
  },
  {
   "cell_type": "code",
   "execution_count": 27,
   "metadata": {},
   "outputs": [
    {
     "name": "stdout",
     "output_type": "stream",
     "text": [
      "Filename: /cos_pc19a_npr/data/JWST/MIRI/det_image_seq1_MIRIFUSHORT_12SHORTexp1.fits\n",
      "No.    Name         Type      Cards   Dimensions   Format\n",
      "  0  PRIMARY     PrimaryHDU     143   ()      \n",
      "  1  SCI         ImageHDU        14   (1032, 1024, 5, 3)   float32   \n",
      "  2  REFOUT      ImageHDU        14   (258, 1024, 5, 3)   float32   \n",
      "  3  PIXELDQ     ImageHDU        10   (1032, 1024)   int32 (rescales to uint32)   \n",
      "  4  PIXELDQ_DEF  BinTableHDU     17   29R x 4C   [J, J, 40A, 128A]   \n",
      "  5  ASDF        ImageHDU         7   (84552015,)   uint8   \n"
     ]
    }
   ],
   "source": [
    "det_image.info()"
   ]
  },
  {
   "cell_type": "code",
   "execution_count": 28,
   "metadata": {},
   "outputs": [
    {
     "data": {
      "text/plain": [
       "astropy.io.fits.hdu.hdulist.HDUList"
      ]
     },
     "execution_count": 28,
     "metadata": {},
     "output_type": "execute_result"
    }
   ],
   "source": [
    "type(det_image)"
   ]
  },
  {
   "cell_type": "code",
   "execution_count": 31,
   "metadata": {},
   "outputs": [
    {
     "name": "stdout",
     "output_type": "stream",
     "text": [
      "<astropy.io.fits.hdu.image.PrimaryHDU object at 0x109e895c0>\n",
      "<astropy.io.fits.hdu.image.ImageHDU object at 0x109e98ef0>\n",
      "<astropy.io.fits.hdu.image.ImageHDU object at 0x109e9e898>\n"
     ]
    }
   ],
   "source": [
    "print(det_image[0])\n",
    "print(det_image[1])\n",
    "print(det_image[2])"
   ]
  },
  {
   "cell_type": "code",
   "execution_count": 40,
   "metadata": {},
   "outputs": [
    {
     "name": "stdout",
     "output_type": "stream",
     "text": [
      "(3, 5, 1024, 1032)\n",
      "float32\n"
     ]
    }
   ],
   "source": [
    "scidata = det_image[1].data\n",
    "#Here, scidata points to the data object in the second HDU (the first HDU, hdulist[0], being the primary HDU) in hdulist, which corresponds to the ‘SCI’ extension. Alternatively, you can access the extension by its extension name (specified in the EXTNAME keyword):\n",
    "\n",
    "#scidata = det_image['SCI'].data\n",
    "#If there is more than one extension with the same EXTNAME, EXTVER’s value needs to be specified as the second argument, e.g.:\n",
    "\n",
    "#scidata = det_image['sci',2].data\n",
    "#The returned numpy object has many attributes and methods for a user to get information about the array, e. g.:\n",
    "\n",
    "print(scidata.shape)\n",
    "#(800, 800)\n",
    "scidata.view()\n",
    "print(scidata.dtype.name)"
   ]
  },
  {
   "cell_type": "code",
   "execution_count": 41,
   "metadata": {},
   "outputs": [
    {
     "data": {
      "text/plain": [
       "array([[[[ 10148.,  10171.,  10209., ...,  10072.,  10177.,  10304.],\n",
       "         [ 10084.,  10257.,  10171., ...,  10147.,  10103.,  10111.],\n",
       "         [ 10236.,  10220.,  10119., ...,  10330.,  10168.,  10117.],\n",
       "         ..., \n",
       "         [ 10097.,  10142.,  10283., ...,  10109.,  10270.,  10163.],\n",
       "         [ 10128.,  10187.,  10217., ...,  10246.,  10089.,  10167.],\n",
       "         [ 10237.,  10113.,  10105., ...,  10163.,  10181.,  10161.]],\n",
       "\n",
       "        [[ 10148.,  10173.,  10106., ...,  10186.,  10148.,  10181.],\n",
       "         [ 10273.,  10140.,  10131., ...,  10072.,  10123.,  10076.],\n",
       "         [ 10168.,  10205.,  10097., ...,  10124.,  10241.,  10149.],\n",
       "         ..., \n",
       "         [ 10191.,  10180.,  10148., ...,  10250.,  10267.,  10188.],\n",
       "         [ 10083.,  10173.,  10232., ...,  10128.,  10066.,  10117.],\n",
       "         [ 10230.,  10246.,  10262., ...,  10055.,  10131.,  10174.]],\n",
       "\n",
       "        [[ 10258.,  10277.,  10253., ...,  10188.,  10208.,  10183.],\n",
       "         [ 10224.,  10074.,  10127., ...,  10267.,  10187.,  10197.],\n",
       "         [ 10133.,  10140.,  10270., ...,  10129.,  10289.,  10260.],\n",
       "         ..., \n",
       "         [ 10038.,  10260.,  10174., ...,  10194.,  10105.,  10097.],\n",
       "         [ 10232.,  10334.,  10212., ...,  10167.,  10148.,  10190.],\n",
       "         [ 10139.,  10188.,  10067., ...,  10115.,  10359.,  10304.]],\n",
       "\n",
       "        [[ 10175.,  10129.,  10167., ...,  10234.,  10269.,  10224.],\n",
       "         [ 10102.,  10269.,  10123., ...,  10173.,  10240.,  10118.],\n",
       "         [ 10132.,  10103.,  10132., ...,  10172.,  10217.,  10276.],\n",
       "         ..., \n",
       "         [ 10198.,  10188.,  10164., ...,  10139.,  10211.,  10092.],\n",
       "         [ 10214.,  10191.,  10102., ...,  10145.,  10185.,  10089.],\n",
       "         [ 10234.,  10164.,  10218., ...,  10119.,  10134.,  10064.]],\n",
       "\n",
       "        [[ 10176.,  10127.,  10233., ...,  10179.,  10103.,  10204.],\n",
       "         [ 10251.,  10227.,  10338., ...,  10222.,  10117.,  10203.],\n",
       "         [ 10196.,  10168.,  10139., ...,  10226.,  10159.,  10096.],\n",
       "         ..., \n",
       "         [ 10237.,  10166.,  10131., ...,  10218.,  10159.,  10242.],\n",
       "         [ 10254.,  10186.,  10122., ...,  10206.,  10113.,  10233.],\n",
       "         [ 10101.,  10101.,  10215., ...,  10189.,  10218.,  10258.]]],\n",
       "\n",
       "\n",
       "       [[[ 10167.,  10276.,  10085., ...,  10164.,  10113.,  10239.],\n",
       "         [ 10200.,  10151.,  10238., ...,  10044.,  10177.,  10262.],\n",
       "         [ 10203.,  10056.,  10244., ...,  10144.,  10023.,  10199.],\n",
       "         ..., \n",
       "         [ 10193.,  10096.,  10140., ...,  10217.,  10083.,  10281.],\n",
       "         [ 10127.,  10208.,  10150., ...,  10262.,  10153.,  10221.],\n",
       "         [ 10112.,  10210.,  10136., ...,  10186.,  10082.,  10132.]],\n",
       "\n",
       "        [[ 10302.,  10239.,  10221., ...,  10253.,  10253.,  10275.],\n",
       "         [ 10228.,  10296.,  10095., ...,  10154.,  10214.,  10297.],\n",
       "         [ 10241.,  10183.,  10091., ...,  10118.,  10191.,  10160.],\n",
       "         ..., \n",
       "         [ 10155.,  10186.,  10033., ...,  10308.,  10149.,  10172.],\n",
       "         [ 10185.,  10157.,  10112., ...,  10093.,  10036.,  10272.],\n",
       "         [ 10197.,  10114.,  10147., ...,  10111.,  10042.,  10237.]],\n",
       "\n",
       "        [[ 10137.,  10252.,  10189., ...,  10315.,  10156.,  10221.],\n",
       "         [ 10375.,  10249.,  10010., ...,  10112.,  10110.,  10184.],\n",
       "         [ 10191.,  10194.,  10214., ...,  10256.,  10176.,  10232.],\n",
       "         ..., \n",
       "         [ 10117.,  10153.,  10197., ...,  10135.,  10220.,  10195.],\n",
       "         [ 10182.,  10232.,  10149., ...,  10157.,  10127.,  10248.],\n",
       "         [ 10153.,  10209.,  10254., ...,  10200.,  10244.,  10203.]],\n",
       "\n",
       "        [[ 10108.,   9994.,  10136., ...,  10202.,  10195.,  10180.],\n",
       "         [ 10258.,  10170.,  10199., ...,  10105.,  10226.,  10079.],\n",
       "         [ 10200.,  10175.,  10244., ...,  10225.,  10143.,  10241.],\n",
       "         ..., \n",
       "         [ 10057.,  10182.,  10226., ...,  10250.,  10192.,  10055.],\n",
       "         [ 10241.,  10202.,  10178., ...,  10271.,  10130.,  10179.],\n",
       "         [ 10298.,  10078.,  10120., ...,  10051.,  10131.,  10141.]],\n",
       "\n",
       "        [[ 10126.,  10207.,  10252., ...,  10178.,  10244.,  10091.],\n",
       "         [ 10141.,  10246.,  10168., ...,  10079.,  10210.,  10198.],\n",
       "         [ 10223.,  10183.,  10153., ...,  10127.,  10147.,  10246.],\n",
       "         ..., \n",
       "         [ 10099.,  10201.,  10167., ...,  10163.,  10171.,  10139.],\n",
       "         [ 10094.,  10242.,  10105., ...,  10129.,  10232.,  10182.],\n",
       "         [ 10382.,  10261.,  10186., ...,  10142.,  10152.,  10314.]]],\n",
       "\n",
       "\n",
       "       [[[ 10182.,  10220.,  10096., ...,  10120.,  10197.,  10093.],\n",
       "         [ 10242.,  10304.,  10275., ...,  10159.,  10086.,  10121.],\n",
       "         [ 10060.,  10159.,  10167., ...,  10115.,  10284.,  10274.],\n",
       "         ..., \n",
       "         [ 10134.,  10068.,  10188., ...,  10186.,  10164.,  10205.],\n",
       "         [ 10145.,  10105.,  10289., ...,  10231.,  10142.,  10156.],\n",
       "         [ 10143.,  10143.,  10215., ...,  10154.,  10265.,  10279.]],\n",
       "\n",
       "        [[ 10298.,  10152.,  10098., ...,  10187.,  10134.,  10094.],\n",
       "         [ 10154.,  10042.,  10238., ...,  10200.,  10329.,  10109.],\n",
       "         [ 10080.,  10190.,  10173., ...,  10118.,  10217.,  10158.],\n",
       "         ..., \n",
       "         [ 10205.,  10257.,  10221., ...,  10096.,  10179.,  10188.],\n",
       "         [ 10257.,  10172.,  10225., ...,  10220.,  10137.,  10139.],\n",
       "         [ 10138.,  10236.,  10253., ...,  10081.,  10176.,  10112.]],\n",
       "\n",
       "        [[ 10270.,  10167.,  10259., ...,  10289.,  10113.,  10138.],\n",
       "         [ 10216.,  10086.,  10123., ...,  10147.,  10225.,  10203.],\n",
       "         [ 10180.,  10196.,  10149., ...,  10146.,  10114.,  10254.],\n",
       "         ..., \n",
       "         [ 10232.,  10278.,  10296., ...,  10165.,  10166.,  10166.],\n",
       "         [ 10176.,  10057.,  10146., ...,  10313.,  10284.,  10198.],\n",
       "         [ 10101.,  10113.,  10173., ...,  10214.,  10129.,  10268.]],\n",
       "\n",
       "        [[ 10290.,  10253.,  10139., ...,  10210.,  10242.,  10281.],\n",
       "         [ 10214.,  10075.,  10322., ...,  10096.,  10157.,  10143.],\n",
       "         [ 10157.,  10288.,  10134., ...,  10138.,  10156.,  10109.],\n",
       "         ..., \n",
       "         [ 10164.,  10148.,  10139., ...,  10091.,  10173.,  10096.],\n",
       "         [ 10147.,  10188.,  10094., ...,  10061.,  10212.,  10213.],\n",
       "         [ 10179.,  10081.,  10144., ...,  10205.,  10202.,  10123.]],\n",
       "\n",
       "        [[ 10137.,  10139.,  10185., ...,  10182.,  10238.,  10058.],\n",
       "         [ 10239.,  10178.,  10277., ...,  10178.,  10159.,  10235.],\n",
       "         [ 10255.,  10210.,  10277., ...,  10262.,  10321.,  10257.],\n",
       "         ..., \n",
       "         [ 10271.,  10276.,  10176., ...,  10211.,  10169.,  10173.],\n",
       "         [ 10172.,  10175.,  10177., ...,  10084.,  10170.,  10164.],\n",
       "         [ 10239.,  10177.,  10150., ...,  10168.,  10128.,  10112.]]]], dtype=float32)"
      ]
     },
     "execution_count": 41,
     "metadata": {},
     "output_type": "execute_result"
    }
   ],
   "source": [
    "scidata.view()\n"
   ]
  },
  {
   "cell_type": "code",
   "execution_count": 42,
   "metadata": {},
   "outputs": [
    {
     "data": {
      "text/plain": [
       "24"
      ]
     },
     "execution_count": 42,
     "metadata": {},
     "output_type": "execute_result"
    }
   ],
   "source": [
    "2*3*4"
   ]
  },
  {
   "cell_type": "code",
   "execution_count": 46,
   "metadata": {},
   "outputs": [
    {
     "name": "stdout",
     "output_type": "stream",
     "text": [
      "13.333333333333334\n"
     ]
    }
   ],
   "source": [
    "print((2000*24)/3600)"
   ]
  },
  {
   "cell_type": "code",
   "execution_count": 45,
   "metadata": {},
   "outputs": [
    {
     "name": "stdout",
     "output_type": "stream",
     "text": [
      "20.0\n"
     ]
    }
   ],
   "source": [
    "print((3000*24)/3600)"
   ]
  },
  {
   "cell_type": "code",
   "execution_count": null,
   "metadata": {
    "collapsed": true
   },
   "outputs": [],
   "source": []
  }
 ],
 "metadata": {
  "anaconda-cloud": {},
  "kernelspec": {
   "display_name": "Python [default]",
   "language": "python",
   "name": "python3"
  },
  "language_info": {
   "codemirror_mode": {
    "name": "ipython",
    "version": 3
   },
   "file_extension": ".py",
   "mimetype": "text/x-python",
   "name": "python",
   "nbconvert_exporter": "python",
   "pygments_lexer": "ipython3",
   "version": "3.5.2"
  }
 },
 "nbformat": 4,
 "nbformat_minor": 2
}
