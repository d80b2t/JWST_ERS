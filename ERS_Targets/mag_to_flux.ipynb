{
 "cells": [
  {
   "cell_type": "code",
   "execution_count": 1,
   "metadata": {},
   "outputs": [
    {
     "data": {
      "text/plain": [
       "'\\nSome cute unit/flux density luminosity conversions\\n    http://www.astro.soton.ac.uk/~td/flux_convert.html\\n            (Janskys to Watts)     * (4.pi.R^2)      * (freq in Hz) *     \\nIDL> print, ((2351.50*1e-6)*1e-26) * (5.2952985d+51) * (83333e9)    *(1e7)\\n'"
      ]
     },
     "execution_count": 1,
     "metadata": {},
     "output_type": "execute_result"
    }
   ],
   "source": [
    "'''\n",
    "Some cute unit/flux density luminosity conversions\n",
    "    http://www.astro.soton.ac.uk/~td/flux_convert.html\n",
    "            (Janskys to Watts)     * (4.pi.R^2)      * (freq in Hz) *     \n",
    "IDL> print, ((2351.50*1e-6)*1e-26) * (5.2952985d+51) * (83333e9)    *(1e7)\n",
    "'''"
   ]
  },
  {
   "cell_type": "code",
   "execution_count": 2,
   "metadata": {
    "collapsed": true
   },
   "outputs": [],
   "source": [
    "import math \n",
    "import numpy as np"
   ]
  },
  {
   "cell_type": "code",
   "execution_count": 5,
   "metadata": {},
   "outputs": [
    {
     "name": "stdout",
     "output_type": "stream",
     "text": [
      "The WISE W4 magnitude??:  7.50\n"
     ]
    }
   ],
   "source": [
    "w4mpro = float(input(\"The WISE W4 magnitude??:  \"))"
   ]
  },
  {
   "cell_type": "code",
   "execution_count": 6,
   "metadata": {
    "collapsed": true
   },
   "outputs": [],
   "source": [
    "## http://wise2.ipac.caltech.edu/docs/release/allsky/expsup/sec4_4h.html#Summary\n",
    "Flux_nu_0_W1  = 309.540\n",
    "Flux_nu_0_W2  = 171.787\n",
    "Flux_nu_0_W3  =  31.674\n",
    "Flux_nu_0_W4  =   8.363"
   ]
  },
  {
   "cell_type": "code",
   "execution_count": 7,
   "metadata": {},
   "outputs": [],
   "source": [
    "#Flux_nu_W4_Jy  = Flux_nu_0_W4 * (math.pow((-1.*w4mpro)/2.5), 10)"
   ]
  },
  {
   "cell_type": "code",
   "execution_count": 10,
   "metadata": {},
   "outputs": [],
   "source": [
    "#Flux_nu_W1_Jy  = Flux_nu_0_W1 * (10**(-1.*(data.w1mpro)/2.5))\n",
    "#Flux_nu_W1_uJy = Flux_nu_W1_Jy*1e6\n",
    "\n",
    "Flux_nu_W4_Jy  = Flux_nu_0_W4 * (10**(-1.*(w4mpro)/2.5))\n",
    "Flux_nu_W4_mJy = Flux_nu_W4_Jy*1e3\n",
    "#Flux_nu_W4_uJy = Flux_nu_W4_Jy*1e6\n",
    "\n"
   ]
  },
  {
   "cell_type": "code",
   "execution_count": 11,
   "metadata": {},
   "outputs": [
    {
     "name": "stdout",
     "output_type": "stream",
     "text": [
      "WISE W4 flux in  Jy 0.008362999999999999\n",
      "WISE W4 flux in mJy 8.363\n"
     ]
    }
   ],
   "source": [
    "print('WISE W4 flux in  Jy', Flux_nu_W4_Jy)\n",
    "print('WISE W4 flux in mJy', Flux_nu_W4_mJy)"
   ]
  },
  {
   "cell_type": "code",
   "execution_count": null,
   "metadata": {
    "collapsed": true
   },
   "outputs": [],
   "source": []
  }
 ],
 "metadata": {
  "anaconda-cloud": {},
  "kernelspec": {
   "display_name": "Python [default]",
   "language": "python",
   "name": "python3"
  },
  "language_info": {
   "codemirror_mode": {
    "name": "ipython",
    "version": 3
   },
   "file_extension": ".py",
   "mimetype": "text/x-python",
   "name": "python",
   "nbconvert_exporter": "python",
   "pygments_lexer": "ipython3",
   "version": "3.5.2"
  }
 },
 "nbformat": 4,
 "nbformat_minor": 2
}
